{
  "cells": [
    {
      "cell_type": "markdown",
      "metadata": {
        "nteract": {
          "transient": {
            "deleting": false
          }
        }
      },
      "source": [
        "# Wine Classification Problem\n",
        "\n",
        "We have a wine dataset with information about  chemical ingredients, ph, and a quality score from 0 to 10.\n",
        "We want to classify a wine as good or bad, the idea is that good wines are scored 7 or above, all the rest are bad wines.\n",
        "\n",
        "\n"
      ]
    },
    {
      "cell_type": "code",
      "execution_count": 40,
      "metadata": {
        "gather": {
          "logged": 1645697865007
        },
        "jupyter": {
          "outputs_hidden": false,
          "source_hidden": false
        },
        "nteract": {
          "transient": {
            "deleting": false
          }
        }
      },
      "outputs": [],
      "source": [
        "import numpy as np\n",
        "import pandas as pd\n",
        "import numpy as np\n",
        "import pandas as pd\n",
        "from sklearn.model_selection import train_test_split\n",
        "from sklearn.preprocessing import MinMaxScaler\n",
        "from sklearn.linear_model import LogisticRegression\n",
        "from sklearn.metrics import confusion_matrix\n",
        "from sklearn.metrics import classification_report\n",
        "\n",
        "%matplotlib inline \n"
      ]
    },
    {
      "cell_type": "markdown",
      "metadata": {
        "nteract": {
          "transient": {
            "deleting": false
          }
        }
      },
      "source": [
        "## Get Data\n",
        "\n",
        "Data has been uploaded to an Azure ML DataStore, and the code below gets the tabular data in a pandas dataframe. If you want to use the same data go to Kaggle check it here\n",
        "https://www.kaggle.com/yasserh/wine-quality-dataset\n"
      ]
    },
    {
      "cell_type": "code",
      "execution_count": 41,
      "metadata": {
        "gather": {
          "logged": 1645697868731
        }
      },
      "outputs": [
        {
          "data": {
            "text/plain": [
              "1599"
            ]
          },
          "execution_count": 41,
          "metadata": {},
          "output_type": "execute_result"
        }
      ],
      "source": [
        "# azureml-core of version 1.0.72 or higher is required\n",
        "# azureml-dataprep[pandas] of version 1.1.34 or higher is required\n",
        "from azureml.core import Workspace, Dataset \n",
        "\n",
        "subscription_id = 'subid'\n",
        "resource_group = 'resourcegroupname'\n",
        "workspace_name = 'mlplayground'\n",
        "\n",
        "workspace = Workspace(subscription_id, resource_group, workspace_name)\n",
        "\n",
        "dataset = Dataset.get_by_name(workspace, name='WineDataset')\n",
        "df = dataset.to_pandas_dataframe()\n",
        "df.head(10)\n",
        "\n",
        "len(df)"
      ]
    },
    {
      "cell_type": "markdown",
      "metadata": {
        "nteract": {
          "transient": {
            "deleting": false
          }
        }
      },
      "source": [
        "## Handling missing data\n",
        "\n",
        "Drop rows with any having null data, the initial df had 1599 rows, after droping nulls, 1593 rows."
      ]
    },
    {
      "cell_type": "code",
      "execution_count": 42,
      "metadata": {
        "gather": {
          "logged": 1645697868817
        },
        "jupyter": {
          "outputs_hidden": false,
          "source_hidden": false
        },
        "nteract": {
          "transient": {
            "deleting": false
          }
        }
      },
      "outputs": [
        {
          "data": {
            "text/plain": [
              "fixed acidity           0\n",
              "volatile acidity        0\n",
              "citric acid             0\n",
              "residual sugar          0\n",
              "chlorides               0\n",
              "free sulfur dioxide     0\n",
              "total sulfur dioxide    0\n",
              "density                 0\n",
              "pH                      0\n",
              "sulphates               0\n",
              "alcohol                 0\n",
              "quality                 0\n",
              "dtype: int64"
            ]
          },
          "execution_count": 42,
          "metadata": {},
          "output_type": "execute_result"
        }
      ],
      "source": [
        "df.dropna(how='any', inplace=True)\n",
        "df.isnull().sum() #verify there are no nulls or na afterwards\n"
      ]
    },
    {
      "cell_type": "markdown",
      "metadata": {
        "nteract": {
          "transient": {
            "deleting": false
          }
        }
      },
      "source": [
        "## Normalize Data\n",
        "Machine learning algorithms tend to perform better or converge faster when the different features (variables) are on a smaller scale. \n",
        "Therefore it is common practice to normalize the data before training machine learning models on it.\n",
        "Normalization also makes the training process less sensitive to the scale of the features. This results in getting better coefficients after training.\n"
      ]
    },
    {
      "cell_type": "code",
      "execution_count": 43,
      "metadata": {
        "gather": {
          "logged": 1645697873904
        },
        "jupyter": {
          "outputs_hidden": false,
          "source_hidden": false
        },
        "nteract": {
          "transient": {
            "deleting": false
          }
        }
      },
      "outputs": [],
      "source": [
        "\n",
        "d = MinMaxScaler().fit_transform(df)\n",
        "scaled_df = pd.DataFrame(d, columns=df.columns)\n"
      ]
    },
    {
      "cell_type": "markdown",
      "metadata": {
        "nteract": {
          "transient": {
            "deleting": false
          }
        }
      },
      "source": [
        "We will assume that any wine with score equal or above 7 is Good and below 7 is bad.   Good Wines will be labeled as 1, Bad Wines as 0 on a new column QualityLabel"
      ]
    },
    {
      "cell_type": "code",
      "execution_count": 44,
      "metadata": {
        "gather": {
          "logged": 1645697879037
        },
        "jupyter": {
          "outputs_hidden": false,
          "source_hidden": false
        },
        "nteract": {
          "transient": {
            "deleting": false
          }
        }
      },
      "outputs": [
        {
          "data": {
            "text/plain": [
              "0.4    679\n",
              "0.6    636\n",
              "0.8    197\n",
              "0.2     53\n",
              "1.0     18\n",
              "0.0     10\n",
              "Name: quality, dtype: int64"
            ]
          },
          "execution_count": 44,
          "metadata": {},
          "output_type": "execute_result"
        }
      ],
      "source": [
        "scaled_df['QualityLabel'] = np.where(scaled_df['quality']>=0.7,1,0)\n",
        "\n",
        "# Count unique values for the quality score.\n",
        "scaled_df['quality'].value_counts()"
      ]
    },
    {
      "cell_type": "code",
      "execution_count": 45,
      "metadata": {
        "gather": {
          "logged": 1645697881813
        },
        "jupyter": {
          "outputs_hidden": false,
          "source_hidden": false
        },
        "nteract": {
          "transient": {
            "deleting": false
          }
        }
      },
      "outputs": [
        {
          "data": {
            "text/plain": [
              "(1593, 13)"
            ]
          },
          "execution_count": 45,
          "metadata": {},
          "output_type": "execute_result"
        }
      ],
      "source": [
        "# Tuple of  # of rows and # of columns in DataFrame\n",
        "# SO we have 1599 rows and 12 columns\n",
        "scaled_df.shape"
      ]
    },
    {
      "cell_type": "code",
      "execution_count": 46,
      "metadata": {
        "gather": {
          "logged": 1645697884942
        },
        "jupyter": {
          "outputs_hidden": false,
          "source_hidden": false
        },
        "nteract": {
          "transient": {
            "deleting": false
          }
        }
      },
      "outputs": [
        {
          "data": {
            "text/html": [
              "<div>\n",
              "<style scoped>\n",
              "    .dataframe tbody tr th:only-of-type {\n",
              "        vertical-align: middle;\n",
              "    }\n",
              "\n",
              "    .dataframe tbody tr th {\n",
              "        vertical-align: top;\n",
              "    }\n",
              "\n",
              "    .dataframe thead th {\n",
              "        text-align: right;\n",
              "    }\n",
              "</style>\n",
              "<table border=\"1\" class=\"dataframe\">\n",
              "  <thead>\n",
              "    <tr style=\"text-align: right;\">\n",
              "      <th></th>\n",
              "      <th>fixed acidity</th>\n",
              "      <th>volatile acidity</th>\n",
              "      <th>citric acid</th>\n",
              "      <th>residual sugar</th>\n",
              "      <th>chlorides</th>\n",
              "      <th>free sulfur dioxide</th>\n",
              "      <th>total sulfur dioxide</th>\n",
              "      <th>density</th>\n",
              "      <th>pH</th>\n",
              "      <th>sulphates</th>\n",
              "      <th>alcohol</th>\n",
              "      <th>quality</th>\n",
              "      <th>QualityLabel</th>\n",
              "    </tr>\n",
              "  </thead>\n",
              "  <tbody>\n",
              "    <tr>\n",
              "      <th>count</th>\n",
              "      <td>1593.000000</td>\n",
              "      <td>1593.000000</td>\n",
              "      <td>1593.000000</td>\n",
              "      <td>1593.000000</td>\n",
              "      <td>1593.000000</td>\n",
              "      <td>1593.000000</td>\n",
              "      <td>1593.000000</td>\n",
              "      <td>1593.000000</td>\n",
              "      <td>1593.000000</td>\n",
              "      <td>1593.000000</td>\n",
              "      <td>1593.000000</td>\n",
              "      <td>1593.000000</td>\n",
              "      <td>1593.000000</td>\n",
              "    </tr>\n",
              "    <tr>\n",
              "      <th>mean</th>\n",
              "      <td>0.329611</td>\n",
              "      <td>0.279472</td>\n",
              "      <td>0.270778</td>\n",
              "      <td>0.111655</td>\n",
              "      <td>0.125914</td>\n",
              "      <td>0.208376</td>\n",
              "      <td>0.260103</td>\n",
              "      <td>0.490934</td>\n",
              "      <td>0.450089</td>\n",
              "      <td>0.196812</td>\n",
              "      <td>0.310913</td>\n",
              "      <td>0.526930</td>\n",
              "      <td>0.134965</td>\n",
              "    </tr>\n",
              "    <tr>\n",
              "      <th>std</th>\n",
              "      <td>0.154158</td>\n",
              "      <td>0.122536</td>\n",
              "      <td>0.194351</td>\n",
              "      <td>0.095618</td>\n",
              "      <td>0.078414</td>\n",
              "      <td>0.145851</td>\n",
              "      <td>0.205892</td>\n",
              "      <td>0.138101</td>\n",
              "      <td>0.121444</td>\n",
              "      <td>0.101538</td>\n",
              "      <td>0.163761</td>\n",
              "      <td>0.161445</td>\n",
              "      <td>0.341794</td>\n",
              "    </tr>\n",
              "    <tr>\n",
              "      <th>min</th>\n",
              "      <td>0.000000</td>\n",
              "      <td>0.000000</td>\n",
              "      <td>0.000000</td>\n",
              "      <td>0.000000</td>\n",
              "      <td>0.000000</td>\n",
              "      <td>0.000000</td>\n",
              "      <td>0.000000</td>\n",
              "      <td>0.000000</td>\n",
              "      <td>0.000000</td>\n",
              "      <td>0.000000</td>\n",
              "      <td>0.000000</td>\n",
              "      <td>0.000000</td>\n",
              "      <td>0.000000</td>\n",
              "    </tr>\n",
              "    <tr>\n",
              "      <th>25%</th>\n",
              "      <td>0.221239</td>\n",
              "      <td>0.184932</td>\n",
              "      <td>0.090000</td>\n",
              "      <td>0.068493</td>\n",
              "      <td>0.096828</td>\n",
              "      <td>0.084507</td>\n",
              "      <td>0.103896</td>\n",
              "      <td>0.406021</td>\n",
              "      <td>0.370079</td>\n",
              "      <td>0.131737</td>\n",
              "      <td>0.169231</td>\n",
              "      <td>0.400000</td>\n",
              "      <td>0.000000</td>\n",
              "    </tr>\n",
              "    <tr>\n",
              "      <th>50%</th>\n",
              "      <td>0.292035</td>\n",
              "      <td>0.273973</td>\n",
              "      <td>0.260000</td>\n",
              "      <td>0.089041</td>\n",
              "      <td>0.111853</td>\n",
              "      <td>0.183099</td>\n",
              "      <td>0.207792</td>\n",
              "      <td>0.490455</td>\n",
              "      <td>0.448819</td>\n",
              "      <td>0.173653</td>\n",
              "      <td>0.276923</td>\n",
              "      <td>0.600000</td>\n",
              "      <td>0.000000</td>\n",
              "    </tr>\n",
              "    <tr>\n",
              "      <th>75%</th>\n",
              "      <td>0.407080</td>\n",
              "      <td>0.356164</td>\n",
              "      <td>0.420000</td>\n",
              "      <td>0.116438</td>\n",
              "      <td>0.130217</td>\n",
              "      <td>0.281690</td>\n",
              "      <td>0.363636</td>\n",
              "      <td>0.571219</td>\n",
              "      <td>0.519685</td>\n",
              "      <td>0.239521</td>\n",
              "      <td>0.415385</td>\n",
              "      <td>0.600000</td>\n",
              "      <td>0.000000</td>\n",
              "    </tr>\n",
              "    <tr>\n",
              "      <th>max</th>\n",
              "      <td>1.000000</td>\n",
              "      <td>1.000000</td>\n",
              "      <td>1.000000</td>\n",
              "      <td>1.000000</td>\n",
              "      <td>1.000000</td>\n",
              "      <td>1.000000</td>\n",
              "      <td>1.000000</td>\n",
              "      <td>1.000000</td>\n",
              "      <td>1.000000</td>\n",
              "      <td>1.000000</td>\n",
              "      <td>1.000000</td>\n",
              "      <td>1.000000</td>\n",
              "      <td>1.000000</td>\n",
              "    </tr>\n",
              "  </tbody>\n",
              "</table>\n",
              "</div>"
            ],
            "text/plain": [
              "       fixed acidity  volatile acidity  citric acid  residual sugar  \\\n",
              "count    1593.000000       1593.000000  1593.000000     1593.000000   \n",
              "mean        0.329611          0.279472     0.270778        0.111655   \n",
              "std         0.154158          0.122536     0.194351        0.095618   \n",
              "min         0.000000          0.000000     0.000000        0.000000   \n",
              "25%         0.221239          0.184932     0.090000        0.068493   \n",
              "50%         0.292035          0.273973     0.260000        0.089041   \n",
              "75%         0.407080          0.356164     0.420000        0.116438   \n",
              "max         1.000000          1.000000     1.000000        1.000000   \n",
              "\n",
              "         chlorides  free sulfur dioxide  total sulfur dioxide      density  \\\n",
              "count  1593.000000          1593.000000           1593.000000  1593.000000   \n",
              "mean      0.125914             0.208376              0.260103     0.490934   \n",
              "std       0.078414             0.145851              0.205892     0.138101   \n",
              "min       0.000000             0.000000              0.000000     0.000000   \n",
              "25%       0.096828             0.084507              0.103896     0.406021   \n",
              "50%       0.111853             0.183099              0.207792     0.490455   \n",
              "75%       0.130217             0.281690              0.363636     0.571219   \n",
              "max       1.000000             1.000000              1.000000     1.000000   \n",
              "\n",
              "                pH    sulphates      alcohol      quality  QualityLabel  \n",
              "count  1593.000000  1593.000000  1593.000000  1593.000000   1593.000000  \n",
              "mean      0.450089     0.196812     0.310913     0.526930      0.134965  \n",
              "std       0.121444     0.101538     0.163761     0.161445      0.341794  \n",
              "min       0.000000     0.000000     0.000000     0.000000      0.000000  \n",
              "25%       0.370079     0.131737     0.169231     0.400000      0.000000  \n",
              "50%       0.448819     0.173653     0.276923     0.600000      0.000000  \n",
              "75%       0.519685     0.239521     0.415385     0.600000      0.000000  \n",
              "max       1.000000     1.000000     1.000000     1.000000      1.000000  "
            ]
          },
          "execution_count": 46,
          "metadata": {},
          "output_type": "execute_result"
        }
      ],
      "source": [
        "# Basic descriptive and statistics for each column\n",
        "scaled_df.describe()\n"
      ]
    },
    {
      "cell_type": "markdown",
      "metadata": {
        "nteract": {
          "transient": {
            "deleting": false
          }
        }
      },
      "source": [
        "## Plotting Distributions\n",
        "\n",
        "Its important to plot the value distribution to understand the data.\n",
        "As you can see for quality, most of the wines are between 5 and 6.  Not many  too low or too high scored wines in the sample data.\n",
        "Here I am using the original dataframe and not the scaled dataframe to make it easier to understand."
      ]
    },
    {
      "cell_type": "code",
      "execution_count": 47,
      "metadata": {
        "gather": {
          "logged": 1645697895395
        },
        "jupyter": {
          "outputs_hidden": false,
          "source_hidden": false
        },
        "nteract": {
          "transient": {
            "deleting": false
          }
        }
      },
      "outputs": [
        {
          "data": {
            "image/png": "[encoded data removed]",
            "text/plain": [
              "<Figure size 1152x1440 with 12 Axes>"
            ]
          },
          "metadata": {
            "needs_background": "light"
          },
          "output_type": "display_data"
        }
      ],
      "source": [
        "import numpy as np\n",
        "import matplotlib.pyplot as plt\n",
        "import seaborn as sns\n",
        "\n",
        "# listing dataframes types\n",
        "list(set(df.dtypes.tolist()))\n",
        "# include only float and integer\n",
        "df_num = df.select_dtypes(include = ['float64', 'int64'])\n",
        "# display what has been selected\n",
        "df_num.head()\n",
        "# plot\n",
        "df_num.hist(figsize=(16, 20), bins=50, xlabelsize=8, ylabelsize=8);"
      ]
    },
    {
      "cell_type": "markdown",
      "metadata": {
        "nteract": {
          "transient": {
            "deleting": false
          }
        }
      },
      "source": []
    },
    {
      "cell_type": "markdown",
      "metadata": {
        "nteract": {
          "transient": {
            "deleting": false
          }
        }
      },
      "source": [
        "We need to check if the dataset is balanced for the label we want to predict\n"
      ]
    },
    {
      "cell_type": "code",
      "execution_count": 48,
      "metadata": {
        "gather": {
          "logged": 1645697928795
        },
        "jupyter": {
          "outputs_hidden": false,
          "source_hidden": false
        },
        "nteract": {
          "transient": {
            "deleting": false
          }
        }
      },
      "outputs": [
        {
          "name": "stdout",
          "output_type": "stream",
          "text": [
            "class 0: (1378, 13)\n",
            "class 1: (215, 13)\n"
          ]
        }
      ],
      "source": [
        "# We can use value counts\n",
        "scaled_df['QualityLabel'].value_counts()\n",
        "\n",
        "# or we can separate the classes and then print the shape \n",
        "class_0 = scaled_df[scaled_df['QualityLabel'] == 0]\n",
        "class_1 = scaled_df[scaled_df['QualityLabel'] == 1]# print the shape of the class\n",
        "print('class 0:', class_0.shape)\n",
        "print('class 1:', class_1.shape)\n"
      ]
    },
    {
      "cell_type": "markdown",
      "metadata": {
        "nteract": {
          "transient": {
            "deleting": false
          }
        }
      },
      "source": [
        "I like to visually see the imbalance, so we plot each class and its frequency and see the difference in the bars, we need to do something about it."
      ]
    },
    {
      "cell_type": "code",
      "execution_count": 49,
      "metadata": {
        "gather": {
          "logged": 1645697931722
        },
        "jupyter": {
          "outputs_hidden": false,
          "source_hidden": false
        },
        "nteract": {
          "transient": {
            "deleting": false
          }
        }
      },
      "outputs": [
        {
          "data": {
            "text/plain": [
              "0    1378\n",
              "1     215\n",
              "Name: QualityLabel, dtype: int64"
            ]
          },
          "execution_count": 49,
          "metadata": {},
          "output_type": "execute_result"
        },
        {
          "data": {
            "image/png": "[encoded data removed]",
            "text/plain": [
              "<Figure size 432x288 with 1 Axes>"
            ]
          },
          "metadata": {
            "needs_background": "light"
          },
          "output_type": "display_data"
        }
      ],
      "source": [
        "import matplotlib.pyplot as plt\n",
        "scaled_df.value_counts(scaled_df['QualityLabel']).plot.bar()\n",
        "plt.title('QualityLabel  class histogram')\n",
        "plt.xlabel('Class')\n",
        "plt.ylabel('Frequency')\n",
        "scaled_df['QualityLabel'].value_counts()"
      ]
    },
    {
      "cell_type": "markdown",
      "metadata": {
        "nteract": {
          "transient": {
            "deleting": false
          }
        }
      },
      "source": [
        "## Split Test Train\n",
        "\n",
        "First we need to split data for training and testing purposes"
      ]
    },
    {
      "cell_type": "code",
      "execution_count": 50,
      "metadata": {
        "gather": {
          "logged": 1645697941384
        },
        "jupyter": {
          "outputs_hidden": false,
          "source_hidden": false
        },
        "nteract": {
          "transient": {
            "deleting": false
          }
        }
      },
      "outputs": [],
      "source": [
        "X_train, X_test, y_train, y_test = train_test_split(scaled_df.drop(['QualityLabel','quality'],axis=1), scaled_df[\"QualityLabel\"], test_size=0.3, random_state=0)"
      ]
    },
    {
      "cell_type": "markdown",
      "metadata": {
        "nteract": {
          "transient": {
            "deleting": false
          }
        }
      },
      "source": [
        "## Lets try a logistic classifier"
      ]
    },
    {
      "cell_type": "code",
      "execution_count": 51,
      "metadata": {
        "gather": {
          "logged": 1645697978845
        },
        "jupyter": {
          "outputs_hidden": false,
          "source_hidden": false
        },
        "nteract": {
          "transient": {
            "deleting": false
          }
        }
      },
      "outputs": [
        {
          "name": "stdout",
          "output_type": "stream",
          "text": [
            "[[406  12]\n",
            " [ 44  16]]\n",
            "              precision    recall  f1-score   support\n",
            "\n",
            "           0       0.90      0.97      0.94       418\n",
            "           1       0.57      0.27      0.36        60\n",
            "\n",
            "    accuracy                           0.88       478\n",
            "   macro avg       0.74      0.62      0.65       478\n",
            "weighted avg       0.86      0.88      0.86       478\n",
            "\n",
            "Accuracy = 0.88\n",
            "Recall = 0.27\n",
            "\n"
          ]
        },
        {
          "data": {
            "text/plain": [
              "Text(0.5, 1.0, 'Confusion Matrix (without SMOTE)')"
            ]
          },
          "execution_count": 51,
          "metadata": {},
          "output_type": "execute_result"
        },
        {
          "data": {
            "image/png": "[encoded data removed]",
            "text/plain": [
              "<Figure size 432x288 with 2 Axes>"
            ]
          },
          "metadata": {
            "needs_background": "light"
          },
          "output_type": "display_data"
        }
      ],
      "source": [
        "from sklearn.linear_model import LogisticRegression\n",
        "#Initalize the classifier\n",
        "clf = LogisticRegression(random_state=0)\n",
        "#Fitting the training data\n",
        "clf.fit(X_train, y_train)\n",
        "#Predicting on test\n",
        "y_pred=clf.predict(X_test)\n",
        "\n",
        "from sklearn.metrics import confusion_matrix\n",
        "from sklearn.metrics import classification_report\n",
        "print(confusion_matrix(y_test, y_pred))\n",
        "print(classification_report(y_test, y_pred))\n",
        "\n",
        "\n",
        "print(f'Accuracy = {accuracy_score(y_test, y_pred):.2f}\\nRecall = {recall_score(y_test, y_pred):.2f}\\n')\n",
        "cm = confusion_matrix(y_test, y_pred)\n",
        "cm_plot = sns.heatmap(cm, annot=True, cmap='Blues', fmt='d')\n",
        "cm_plot.set_xlabel('Predicted Values')\n",
        "cm_plot.set_ylabel('Actual Values')\n",
        "cm_plot.set_title('Confusion Matrix (without SMOTE)', size=16)\n",
        "\n",
        "\n"
      ]
    },
    {
      "cell_type": "markdown",
      "metadata": {
        "nteract": {
          "transient": {
            "deleting": false
          }
        }
      },
      "source": [
        "**There are four ways to check if the predictions are right or wrong:**\n",
        "- TN / True Negative: the case was negative and predicted negative\n",
        "- TP / True Positive: the case was positive and predicted positive\n",
        "- FN / False Negative: the case was positive but predicted negative\n",
        "- FP / False Positive: the case was negative but predicted positive\n",
        "\n",
        "**Precision — What percent of your predictions were correct?**\n",
        "\n",
        "Precision is the ability of a classifier not to label an instance positive that is actually negative. For each class, it is defined as the ratio of true positives to the sum of a true positive and false positive.\n",
        "\n",
        "**Precision:**- Accuracy of positive predictions.\n",
        "Precision = TP/(TP + FP)\n",
        "\n",
        "**Recall — What percent of the positive cases did you catch?**\n",
        "\n",
        "Recall is the ability of a classifier to find all positive instances. For each class it is defined as the ratio of true positives to the sum of true positives and false negatives.\n",
        "Recall:- Fraction of positives that were correctly identified.\n",
        "Recall = TP/(TP+FN)\n",
        "\n",
        "**F1 score — What percent of positive predictions were correct?**\n",
        "\n",
        "The F1 score is a weighted harmonic mean of precision and recall such that the best score is 1.0 and the worst is 0.0. F1 scores are lower than accuracy measures as they embed precision and recall into their computation. As a rule of thumb, the weighted average of F1 should be used to compare classifier models, not global accuracy.\n",
        "\n",
        "**Support**\n",
        "\n",
        "Support is the number of actual occurrences of the class in the specified dataset. Imbalanced support in the training data may indicate structural weaknesses in the reported scores of the classifier and could indicate the need for stratified sampling or rebalancing. Support doesn’t change between models but instead diagnoses the evaluation process."
      ]
    },
    {
      "cell_type": "markdown",
      "metadata": {
        "nteract": {
          "transient": {
            "deleting": false
          }
        }
      },
      "source": [
        "# Lets resample with SMOTE\n",
        "\n"
      ]
    },
    {
      "cell_type": "markdown",
      "metadata": {
        "nteract": {
          "transient": {
            "deleting": false
          }
        }
      },
      "source": [
        "The dataframe is really unbalanced, too many  bad wines compared to the good wines, lets balance it.\n",
        "\n",
        "![image-alt-text](https://miro.medium.com/max/630/1*6DlvkNY2TlFw2Veyvb4qdQ.jpeg)\n",
        "\n",
        "We can either oversample the good label, or undersample the bad label.  For this project lets do oversampling."
      ]
    },
    {
      "cell_type": "code",
      "execution_count": 52,
      "metadata": {
        "gather": {
          "logged": 1645698260762
        },
        "jupyter": {
          "outputs_hidden": false,
          "source_hidden": false
        },
        "nteract": {
          "transient": {
            "deleting": false
          }
        }
      },
      "outputs": [
        {
          "name": "stdout",
          "output_type": "stream",
          "text": [
            "Shape of X before SMOTE: (1593, 13)\n",
            "Shape of X after SMOTE: (2756, 13)\n",
            "\n",
            "Balance of positive and negative classes (%):\n"
          ]
        },
        {
          "data": {
            "text/plain": [
              "0    50.0\n",
              "1    50.0\n",
              "Name: QualityLabel, dtype: float64"
            ]
          },
          "execution_count": 52,
          "metadata": {},
          "output_type": "execute_result"
        }
      ],
      "source": [
        "from imblearn.over_sampling import SMOTE \n",
        "\n",
        "sm = SMOTE(random_state=42)\n",
        "\n",
        "X_sm, y_sm = sm.fit_resample(scaled_df,  scaled_df[\"QualityLabel\"])\n",
        "\n",
        "# we split again, (the resampled dataset)\n",
        "X_train, X_test, y_train, y_test = train_test_split(X_sm.drop(['QualityLabel','quality'],axis=1), y_sm, test_size=0.3, random_state=0)\n",
        "\n",
        "print(f'''Shape of X before SMOTE: {scaled_df.shape}\n",
        "Shape of X after SMOTE: {X_sm.shape}''')\n",
        "\n",
        "print('\\nBalance of positive and negative classes (%):')\n",
        "y_sm.value_counts(normalize=True) * 100"
      ]
    },
    {
      "cell_type": "markdown",
      "metadata": {
        "nteract": {
          "transient": {
            "deleting": false
          }
        }
      },
      "source": [
        "Oversampling added rows and now the number of rows for Class 0(Bad Wine) and Class 1(Good Wine) are the same.\n",
        "Lets try the same Logistic Regression Classifier with the oversampled data."
      ]
    },
    {
      "cell_type": "code",
      "execution_count": 53,
      "metadata": {
        "gather": {
          "logged": 1645698271869
        },
        "jupyter": {
          "outputs_hidden": false,
          "source_hidden": false
        },
        "nteract": {
          "transient": {
            "deleting": false
          }
        }
      },
      "outputs": [
        {
          "name": "stdout",
          "output_type": "stream",
          "text": [
            "[[327 103]\n",
            " [ 51 346]]\n",
            "              precision    recall  f1-score   support\n",
            "\n",
            "           0       0.87      0.76      0.81       430\n",
            "           1       0.77      0.87      0.82       397\n",
            "\n",
            "    accuracy                           0.81       827\n",
            "   macro avg       0.82      0.82      0.81       827\n",
            "weighted avg       0.82      0.81      0.81       827\n",
            "\n",
            "Accuracy = 0.81\n",
            "Recall = 0.87\n",
            "\n"
          ]
        },
        {
          "data": {
            "text/plain": [
              "Text(0.5, 1.0, 'Confusion Matrix (with SMOTE)')"
            ]
          },
          "execution_count": 53,
          "metadata": {},
          "output_type": "execute_result"
        },
        {
          "data": {
            "image/png": "[encoded data removed]",
            "text/plain": [
              "<Figure size 432x288 with 2 Axes>"
            ]
          },
          "metadata": {
            "needs_background": "light"
          },
          "output_type": "display_data"
        }
      ],
      "source": [
        "from sklearn.linear_model import LogisticRegression\n",
        "#Initalize the classifier\n",
        "clf = LogisticRegression(random_state=0)\n",
        "#Fitting the training data\n",
        "clf.fit(X_train, y_train)\n",
        "#Predicting on test\n",
        "y_pred=clf.predict(X_test)\n",
        "\n",
        "from sklearn.metrics import confusion_matrix\n",
        "from sklearn.metrics import classification_report\n",
        "print(confusion_matrix(y_test, y_pred))\n",
        "print(classification_report(y_test, y_pred))\n",
        "\n",
        "print(f'Accuracy = {accuracy_score(y_test, y_pred):.2f}\\nRecall = {recall_score(y_test, y_pred):.2f}\\n')\n",
        "cm = confusion_matrix(y_test, y_pred)\n",
        "cm_plot = sns.heatmap(cm, annot=True, cmap='Blues', fmt='d')\n",
        "cm_plot.set_xlabel('Predicted Values')\n",
        "cm_plot.set_ylabel('Actual Values')\n",
        "cm_plot.set_title('Confusion Matrix (with SMOTE)', size=16)\n",
        "\n",
        "\n"
      ]
    },
    {
      "cell_type": "markdown",
      "metadata": {
        "nteract": {
          "transient": {
            "deleting": false
          }
        }
      },
      "source": []
    },
    {
      "cell_type": "markdown",
      "metadata": {},
      "source": [
        "**Interpreation of results**\n",
        "\n",
        "As  you can see the results are really different compared to the first classifier.  Support for example in the first dataset really shows its unbalalanced, in the second classifier the values for support are almost the same because we oversampled with SMOTE.\n",
        "\n",
        "Accuracy went down from 0.88 to 0.81 after the resampling.\n",
        "\n",
        "Recall went up from 0.27  to 0.87, remember the definition?\n",
        "Recall is the ability of a classifier to find all positive instances. For each class it is defined as the ratio of true positives to the sum of true positives and false negatives."
      ]
    },
    {
      "cell_type": "code",
      "execution_count": null,
      "metadata": {
        "jupyter": {
          "outputs_hidden": false,
          "source_hidden": false
        },
        "nteract": {
          "transient": {
            "deleting": false
          }
        }
      },
      "outputs": [],
      "source": []
    }
  ],
  "metadata": {
    "kernel_info": {
      "name": "python38-azureml"
    },
    "kernelspec": {
      "display_name": "Python 3.8 - AzureML",
      "language": "python",
      "name": "python38-azureml"
    },
    "language_info": {
      "codemirror_mode": {
        "name": "ipython",
        "version": 3
      },
      "file_extension": ".py",
      "mimetype": "text/x-python",
      "name": "python",
      "nbconvert_exporter": "python",
      "pygments_lexer": "ipython3",
      "version": "3.8.12"
    },
    "microsoft": {
      "host": {
        "AzureML": {
          "notebookHasBeenCompleted": true
        }
      }
    },
    "nteract": {
      "version": "nteract-front-end@1.0.0"
    }
  },
  "nbformat": 4,
  "nbformat_minor": 2
}
