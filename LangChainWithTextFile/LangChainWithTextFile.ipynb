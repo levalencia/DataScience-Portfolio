{
 "cells": [
  {
   "attachments": {},
   "cell_type": "markdown",
   "metadata": {},
   "source": [
    "# Creating a Langchain application with Streamlit, OpenAI to talk to your own text documents using Pinecone as Vector DB\n",
    "\n",
    "## Some basic concepts and terminology \n",
    "\n",
    "### Langchain\n",
    "\n",
    "LangLangChain is a framework designed to simplify the creation of applications using large language models (LLMs). It is used for chatbots, document analysis and summarization, code analysis and more . LangChain provides a framework for connecting LLMs to other sources of data such as the internet or personal files. This allows developers to chain together multiple commands to create more complex applications.\n",
    "\n",
    "### Streamlit\n",
    "\n",
    "Streamlit its just a framework which allows to easily create UX to text your Python Apps, no more console apps!.\n",
    "\n",
    "### Vector Database\n",
    "\n",
    "A vector database is a type of database that stores data as high-dimensional vectors, which are mathematical representations of features or attributes. Each vector has a certain number of dimensions, which can range from tens to thousands, depending on the complexity and granularity of the data. Vector databases are purpose-built databases that are specialized to tackle the problems that arise when managing vector embeddings in production scenarios. For that reason, they offer significant advantages over traditional scalar-based databases and standalone vector indexes.\n",
    "\n",
    "### OpenAI\n",
    "\n",
    "OpenAI is an AI research and deployment company. Their mission is to ensure that artificial general intelligence benefits all of humanity. OpenAI conducts AI research with the declared intention of promoting and developing a friendly AI. They have developed several models such as GPT-4 which can solve difficult problems with greater accuracy, thanks to its broader general knowledge and problem-solving abilities.\n",
    "\n",
    "\n",
    "## Context\n",
    "\n",
    "Basically what our customer (Acme Corp) wants to achieve its to be able to chat with their own documents, be able to ask plan english questions and get a response back nicely formatted.\n",
    "\n",
    "For this we are going to create a simple app with the following functionalities:\n",
    "1.  Create a PineCone Index.\n",
    "2.  Add free text and index it into the PineCone Index, basically its converting from text to vectors.\n",
    "3.  Create a user interface to be able to chat with this index.\n",
    "    - For the user interface we will use Streamlit for testing.\n",
    "    - We will use open AI to instantiate an Open AI LLM.\n",
    "    - We will use langchain to prove its benefits when developing LLM Apps, Langchain will also use an LLM to format the questions as embeddings and the responses as plain english.\n",
    "    - We will use PineCone SDK to get results from the the vector db.\n",
    "\n"
   ]
  },
  {
   "attachments": {},
   "cell_type": "markdown",
   "metadata": {},
   "source": [
    "## Requirements\n",
    "\n",
    "- streamlit\n",
    "- langchain\n",
    "- openai\n",
    "- python-dotenv\n",
    "- pinecone-client\n",
    "- streamlit-chat\n",
    "\n",
    "Note: Streamlit is intended for UX apps, and not to be used within Jupyter Notebooks, for this reason and for explainability I have created 2 versions of this application:\n",
    "1. The current Jupyter notebook which doesnt use Streamlit and which can be executed cell by cell.\n",
    "2. A streamlit version which you can see in the files app/home.py and app/Langchain.txt.\n",
    "In order to run this version, clone the repo or download the files to your enviroment and run\n",
    "``` streamlit run app/home.py```\n",
    "\n"
   ]
  },
  {
   "cell_type": "code",
   "execution_count": 1,
   "metadata": {},
   "outputs": [
    {
     "name": "stdout",
     "output_type": "stream",
     "text": [
      "Requirement already satisfied: streamlit in /workspaces/DataScience-Portfolio/.conda/lib/python3.11/site-packages (from -r requirements.txt (line 1)) (1.23.1)\n",
      "Requirement already satisfied: langchain in /workspaces/DataScience-Portfolio/.conda/lib/python3.11/site-packages (from -r requirements.txt (line 2)) (0.0.200)\n",
      "Requirement already satisfied: openai in /workspaces/DataScience-Portfolio/.conda/lib/python3.11/site-packages (from -r requirements.txt (line 3)) (0.27.8)\n",
      "Requirement already satisfied: python-dotenv in /workspaces/DataScience-Portfolio/.conda/lib/python3.11/site-packages (from -r requirements.txt (line 4)) (1.0.0)\n",
      "Requirement already satisfied: pinecone-client in /workspaces/DataScience-Portfolio/.conda/lib/python3.11/site-packages (from -r requirements.txt (line 5)) (2.2.2)\n",
      "Requirement already satisfied: streamlit-chat in /workspaces/DataScience-Portfolio/.conda/lib/python3.11/site-packages (from -r requirements.txt (line 6)) (0.0.2.2)\n",
      "Requirement already satisfied: chromadb in /workspaces/DataScience-Portfolio/.conda/lib/python3.11/site-packages (from -r requirements.txt (line 7)) (0.3.26)\n",
      "Requirement already satisfied: streamlit_jupyter in /workspaces/DataScience-Portfolio/.conda/lib/python3.11/site-packages (from -r requirements.txt (line 8)) (0.2.1)\n",
      "Requirement already satisfied: tiktoken in /workspaces/DataScience-Portfolio/.conda/lib/python3.11/site-packages (from -r requirements.txt (line 9)) (0.4.0)\n",
      "Requirement already satisfied: altair<6,>=4.0 in /workspaces/DataScience-Portfolio/.conda/lib/python3.11/site-packages (from streamlit->-r requirements.txt (line 1)) (5.0.1)\n",
      "Requirement already satisfied: blinker<2,>=1.0.0 in /workspaces/DataScience-Portfolio/.conda/lib/python3.11/site-packages (from streamlit->-r requirements.txt (line 1)) (1.6.2)\n",
      "Requirement already satisfied: cachetools<6,>=4.0 in /workspaces/DataScience-Portfolio/.conda/lib/python3.11/site-packages (from streamlit->-r requirements.txt (line 1)) (5.3.1)\n",
      "Requirement already satisfied: click<9,>=7.0 in /workspaces/DataScience-Portfolio/.conda/lib/python3.11/site-packages (from streamlit->-r requirements.txt (line 1)) (8.1.3)\n",
      "Requirement already satisfied: importlib-metadata<7,>=1.4 in /workspaces/DataScience-Portfolio/.conda/lib/python3.11/site-packages (from streamlit->-r requirements.txt (line 1)) (6.6.0)\n",
      "Requirement already satisfied: numpy<2,>=1 in /workspaces/DataScience-Portfolio/.conda/lib/python3.11/site-packages (from streamlit->-r requirements.txt (line 1)) (1.24.3)\n",
      "Requirement already satisfied: packaging<24,>=14.1 in /workspaces/DataScience-Portfolio/.conda/lib/python3.11/site-packages (from streamlit->-r requirements.txt (line 1)) (23.1)\n",
      "Requirement already satisfied: pandas<3,>=0.25 in /workspaces/DataScience-Portfolio/.conda/lib/python3.11/site-packages (from streamlit->-r requirements.txt (line 1)) (2.0.2)\n",
      "Requirement already satisfied: pillow<10,>=6.2.0 in /workspaces/DataScience-Portfolio/.conda/lib/python3.11/site-packages (from streamlit->-r requirements.txt (line 1)) (9.5.0)\n",
      "Requirement already satisfied: protobuf<5,>=3.20 in /workspaces/DataScience-Portfolio/.conda/lib/python3.11/site-packages (from streamlit->-r requirements.txt (line 1)) (4.23.3)\n",
      "Requirement already satisfied: pyarrow>=4.0 in /workspaces/DataScience-Portfolio/.conda/lib/python3.11/site-packages (from streamlit->-r requirements.txt (line 1)) (12.0.1)\n",
      "Requirement already satisfied: pympler<2,>=0.9 in /workspaces/DataScience-Portfolio/.conda/lib/python3.11/site-packages (from streamlit->-r requirements.txt (line 1)) (1.0.1)\n",
      "Requirement already satisfied: python-dateutil<3,>=2 in /workspaces/DataScience-Portfolio/.conda/lib/python3.11/site-packages (from streamlit->-r requirements.txt (line 1)) (2.8.2)\n",
      "Requirement already satisfied: requests<3,>=2.4 in /workspaces/DataScience-Portfolio/.conda/lib/python3.11/site-packages (from streamlit->-r requirements.txt (line 1)) (2.31.0)\n",
      "Requirement already satisfied: rich<14,>=10.11.0 in /workspaces/DataScience-Portfolio/.conda/lib/python3.11/site-packages (from streamlit->-r requirements.txt (line 1)) (13.4.2)\n",
      "Requirement already satisfied: tenacity<9,>=8.0.0 in /workspaces/DataScience-Portfolio/.conda/lib/python3.11/site-packages (from streamlit->-r requirements.txt (line 1)) (8.2.2)\n",
      "Requirement already satisfied: toml<2 in /workspaces/DataScience-Portfolio/.conda/lib/python3.11/site-packages (from streamlit->-r requirements.txt (line 1)) (0.10.2)\n",
      "Requirement already satisfied: typing-extensions<5,>=4.0.1 in /workspaces/DataScience-Portfolio/.conda/lib/python3.11/site-packages (from streamlit->-r requirements.txt (line 1)) (4.6.3)\n",
      "Requirement already satisfied: tzlocal<5,>=1.1 in /workspaces/DataScience-Portfolio/.conda/lib/python3.11/site-packages (from streamlit->-r requirements.txt (line 1)) (4.3)\n",
      "Requirement already satisfied: validators<1,>=0.2 in /workspaces/DataScience-Portfolio/.conda/lib/python3.11/site-packages (from streamlit->-r requirements.txt (line 1)) (0.20.0)\n",
      "Requirement already satisfied: gitpython!=3.1.19,<4,>=3 in /workspaces/DataScience-Portfolio/.conda/lib/python3.11/site-packages (from streamlit->-r requirements.txt (line 1)) (3.1.31)\n",
      "Requirement already satisfied: pydeck<1,>=0.1.dev5 in /workspaces/DataScience-Portfolio/.conda/lib/python3.11/site-packages (from streamlit->-r requirements.txt (line 1)) (0.8.1b0)\n",
      "Requirement already satisfied: tornado<7,>=6.0.3 in /workspaces/DataScience-Portfolio/.conda/lib/python3.11/site-packages (from streamlit->-r requirements.txt (line 1)) (6.3.2)\n",
      "Requirement already satisfied: watchdog in /workspaces/DataScience-Portfolio/.conda/lib/python3.11/site-packages (from streamlit->-r requirements.txt (line 1)) (3.0.0)\n",
      "Requirement already satisfied: PyYAML>=5.4.1 in /workspaces/DataScience-Portfolio/.conda/lib/python3.11/site-packages (from langchain->-r requirements.txt (line 2)) (6.0)\n",
      "Requirement already satisfied: SQLAlchemy<3,>=1.4 in /workspaces/DataScience-Portfolio/.conda/lib/python3.11/site-packages (from langchain->-r requirements.txt (line 2)) (2.0.16)\n",
      "Requirement already satisfied: aiohttp<4.0.0,>=3.8.3 in /workspaces/DataScience-Portfolio/.conda/lib/python3.11/site-packages (from langchain->-r requirements.txt (line 2)) (3.8.4)\n",
      "Requirement already satisfied: dataclasses-json<0.6.0,>=0.5.7 in /workspaces/DataScience-Portfolio/.conda/lib/python3.11/site-packages (from langchain->-r requirements.txt (line 2)) (0.5.8)\n",
      "Requirement already satisfied: langchainplus-sdk>=0.0.9 in /workspaces/DataScience-Portfolio/.conda/lib/python3.11/site-packages (from langchain->-r requirements.txt (line 2)) (0.0.10)\n",
      "Requirement already satisfied: numexpr<3.0.0,>=2.8.4 in /workspaces/DataScience-Portfolio/.conda/lib/python3.11/site-packages (from langchain->-r requirements.txt (line 2)) (2.8.4)\n",
      "Requirement already satisfied: openapi-schema-pydantic<2.0,>=1.2 in /workspaces/DataScience-Portfolio/.conda/lib/python3.11/site-packages (from langchain->-r requirements.txt (line 2)) (1.2.4)\n",
      "Requirement already satisfied: pydantic<2,>=1 in /workspaces/DataScience-Portfolio/.conda/lib/python3.11/site-packages (from langchain->-r requirements.txt (line 2)) (1.10.9)\n",
      "Requirement already satisfied: tqdm in /workspaces/DataScience-Portfolio/.conda/lib/python3.11/site-packages (from openai->-r requirements.txt (line 3)) (4.65.0)\n",
      "Requirement already satisfied: loguru>=0.5.0 in /workspaces/DataScience-Portfolio/.conda/lib/python3.11/site-packages (from pinecone-client->-r requirements.txt (line 5)) (0.7.0)\n",
      "Requirement already satisfied: dnspython>=2.0.0 in /workspaces/DataScience-Portfolio/.conda/lib/python3.11/site-packages (from pinecone-client->-r requirements.txt (line 5)) (2.3.0)\n",
      "Requirement already satisfied: urllib3>=1.21.1 in /workspaces/DataScience-Portfolio/.conda/lib/python3.11/site-packages (from pinecone-client->-r requirements.txt (line 5)) (2.0.3)\n",
      "Requirement already satisfied: hnswlib>=0.7 in /workspaces/DataScience-Portfolio/.conda/lib/python3.11/site-packages (from chromadb->-r requirements.txt (line 7)) (0.7.0)\n",
      "Requirement already satisfied: clickhouse-connect>=0.5.7 in /workspaces/DataScience-Portfolio/.conda/lib/python3.11/site-packages (from chromadb->-r requirements.txt (line 7)) (0.6.2)\n",
      "Requirement already satisfied: duckdb>=0.7.1 in /workspaces/DataScience-Portfolio/.conda/lib/python3.11/site-packages (from chromadb->-r requirements.txt (line 7)) (0.8.1)\n",
      "Requirement already satisfied: fastapi>=0.85.1 in /workspaces/DataScience-Portfolio/.conda/lib/python3.11/site-packages (from chromadb->-r requirements.txt (line 7)) (0.97.0)\n",
      "Requirement already satisfied: uvicorn[standard]>=0.18.3 in /workspaces/DataScience-Portfolio/.conda/lib/python3.11/site-packages (from chromadb->-r requirements.txt (line 7)) (0.22.0)\n",
      "Requirement already satisfied: posthog>=2.4.0 in /workspaces/DataScience-Portfolio/.conda/lib/python3.11/site-packages (from chromadb->-r requirements.txt (line 7)) (3.0.1)\n",
      "Requirement already satisfied: pulsar-client>=3.1.0 in /workspaces/DataScience-Portfolio/.conda/lib/python3.11/site-packages (from chromadb->-r requirements.txt (line 7)) (3.2.0)\n",
      "Requirement already satisfied: onnxruntime>=1.14.1 in /workspaces/DataScience-Portfolio/.conda/lib/python3.11/site-packages (from chromadb->-r requirements.txt (line 7)) (1.15.0)\n",
      "Requirement already satisfied: tokenizers>=0.13.2 in /workspaces/DataScience-Portfolio/.conda/lib/python3.11/site-packages (from chromadb->-r requirements.txt (line 7)) (0.13.3)\n",
      "Requirement already satisfied: overrides>=7.3.1 in /workspaces/DataScience-Portfolio/.conda/lib/python3.11/site-packages (from chromadb->-r requirements.txt (line 7)) (7.3.1)\n",
      "Requirement already satisfied: fastcore in /workspaces/DataScience-Portfolio/.conda/lib/python3.11/site-packages (from streamlit_jupyter->-r requirements.txt (line 8)) (1.5.29)\n",
      "Requirement already satisfied: ipywidgets==7.7.2 in /workspaces/DataScience-Portfolio/.conda/lib/python3.11/site-packages (from streamlit_jupyter->-r requirements.txt (line 8)) (7.7.2)\n",
      "Requirement already satisfied: jupyter in /workspaces/DataScience-Portfolio/.conda/lib/python3.11/site-packages (from streamlit_jupyter->-r requirements.txt (line 8)) (1.0.0)\n",
      "Requirement already satisfied: stqdm in /workspaces/DataScience-Portfolio/.conda/lib/python3.11/site-packages (from streamlit_jupyter->-r requirements.txt (line 8)) (0.0.5)\n",
      "Requirement already satisfied: tabulate in /workspaces/DataScience-Portfolio/.conda/lib/python3.11/site-packages (from streamlit_jupyter->-r requirements.txt (line 8)) (0.9.0)\n",
      "Requirement already satisfied: ipykernel>=4.5.1 in /workspaces/DataScience-Portfolio/.conda/lib/python3.11/site-packages (from ipywidgets==7.7.2->streamlit_jupyter->-r requirements.txt (line 8)) (6.23.2)\n",
      "Requirement already satisfied: ipython-genutils~=0.2.0 in /workspaces/DataScience-Portfolio/.conda/lib/python3.11/site-packages (from ipywidgets==7.7.2->streamlit_jupyter->-r requirements.txt (line 8)) (0.2.0)\n",
      "Requirement already satisfied: traitlets>=4.3.1 in /workspaces/DataScience-Portfolio/.conda/lib/python3.11/site-packages (from ipywidgets==7.7.2->streamlit_jupyter->-r requirements.txt (line 8)) (5.9.0)\n",
      "Requirement already satisfied: widgetsnbextension~=3.6.0 in /workspaces/DataScience-Portfolio/.conda/lib/python3.11/site-packages (from ipywidgets==7.7.2->streamlit_jupyter->-r requirements.txt (line 8)) (3.6.4)\n",
      "Requirement already satisfied: ipython>=4.0.0 in /workspaces/DataScience-Portfolio/.conda/lib/python3.11/site-packages (from ipywidgets==7.7.2->streamlit_jupyter->-r requirements.txt (line 8)) (8.14.0)\n",
      "Requirement already satisfied: jupyterlab-widgets<3,>=1.0.0 in /workspaces/DataScience-Portfolio/.conda/lib/python3.11/site-packages (from ipywidgets==7.7.2->streamlit_jupyter->-r requirements.txt (line 8)) (1.1.4)\n",
      "Requirement already satisfied: regex>=2022.1.18 in /workspaces/DataScience-Portfolio/.conda/lib/python3.11/site-packages (from tiktoken->-r requirements.txt (line 9)) (2023.6.3)\n",
      "Requirement already satisfied: attrs>=17.3.0 in /workspaces/DataScience-Portfolio/.conda/lib/python3.11/site-packages (from aiohttp<4.0.0,>=3.8.3->langchain->-r requirements.txt (line 2)) (23.1.0)\n",
      "Requirement already satisfied: charset-normalizer<4.0,>=2.0 in /workspaces/DataScience-Portfolio/.conda/lib/python3.11/site-packages (from aiohttp<4.0.0,>=3.8.3->langchain->-r requirements.txt (line 2)) (3.1.0)\n",
      "Requirement already satisfied: multidict<7.0,>=4.5 in /workspaces/DataScience-Portfolio/.conda/lib/python3.11/site-packages (from aiohttp<4.0.0,>=3.8.3->langchain->-r requirements.txt (line 2)) (6.0.4)\n",
      "Requirement already satisfied: async-timeout<5.0,>=4.0.0a3 in /workspaces/DataScience-Portfolio/.conda/lib/python3.11/site-packages (from aiohttp<4.0.0,>=3.8.3->langchain->-r requirements.txt (line 2)) (4.0.2)\n",
      "Requirement already satisfied: yarl<2.0,>=1.0 in /workspaces/DataScience-Portfolio/.conda/lib/python3.11/site-packages (from aiohttp<4.0.0,>=3.8.3->langchain->-r requirements.txt (line 2)) (1.9.2)\n",
      "Requirement already satisfied: frozenlist>=1.1.1 in /workspaces/DataScience-Portfolio/.conda/lib/python3.11/site-packages (from aiohttp<4.0.0,>=3.8.3->langchain->-r requirements.txt (line 2)) (1.3.3)\n",
      "Requirement already satisfied: aiosignal>=1.1.2 in /workspaces/DataScience-Portfolio/.conda/lib/python3.11/site-packages (from aiohttp<4.0.0,>=3.8.3->langchain->-r requirements.txt (line 2)) (1.3.1)\n",
      "Requirement already satisfied: jinja2 in /workspaces/DataScience-Portfolio/.conda/lib/python3.11/site-packages (from altair<6,>=4.0->streamlit->-r requirements.txt (line 1)) (3.1.2)\n",
      "Requirement already satisfied: jsonschema>=3.0 in /workspaces/DataScience-Portfolio/.conda/lib/python3.11/site-packages (from altair<6,>=4.0->streamlit->-r requirements.txt (line 1)) (4.17.3)\n",
      "Requirement already satisfied: toolz in /workspaces/DataScience-Portfolio/.conda/lib/python3.11/site-packages (from altair<6,>=4.0->streamlit->-r requirements.txt (line 1)) (0.12.0)\n",
      "Requirement already satisfied: certifi in /workspaces/DataScience-Portfolio/.conda/lib/python3.11/site-packages (from clickhouse-connect>=0.5.7->chromadb->-r requirements.txt (line 7)) (2023.5.7)\n",
      "Requirement already satisfied: pytz in /workspaces/DataScience-Portfolio/.conda/lib/python3.11/site-packages (from clickhouse-connect>=0.5.7->chromadb->-r requirements.txt (line 7)) (2023.3)\n",
      "Requirement already satisfied: zstandard in /workspaces/DataScience-Portfolio/.conda/lib/python3.11/site-packages (from clickhouse-connect>=0.5.7->chromadb->-r requirements.txt (line 7)) (0.21.0)\n",
      "Requirement already satisfied: lz4 in /workspaces/DataScience-Portfolio/.conda/lib/python3.11/site-packages (from clickhouse-connect>=0.5.7->chromadb->-r requirements.txt (line 7)) (4.3.2)\n",
      "Requirement already satisfied: marshmallow<4.0.0,>=3.3.0 in /workspaces/DataScience-Portfolio/.conda/lib/python3.11/site-packages (from dataclasses-json<0.6.0,>=0.5.7->langchain->-r requirements.txt (line 2)) (3.19.0)\n",
      "Requirement already satisfied: marshmallow-enum<2.0.0,>=1.5.1 in /workspaces/DataScience-Portfolio/.conda/lib/python3.11/site-packages (from dataclasses-json<0.6.0,>=0.5.7->langchain->-r requirements.txt (line 2)) (1.5.1)\n",
      "Requirement already satisfied: typing-inspect>=0.4.0 in /workspaces/DataScience-Portfolio/.conda/lib/python3.11/site-packages (from dataclasses-json<0.6.0,>=0.5.7->langchain->-r requirements.txt (line 2)) (0.9.0)\n",
      "Requirement already satisfied: starlette<0.28.0,>=0.27.0 in /workspaces/DataScience-Portfolio/.conda/lib/python3.11/site-packages (from fastapi>=0.85.1->chromadb->-r requirements.txt (line 7)) (0.27.0)\n",
      "Requirement already satisfied: gitdb<5,>=4.0.1 in /workspaces/DataScience-Portfolio/.conda/lib/python3.11/site-packages (from gitpython!=3.1.19,<4,>=3->streamlit->-r requirements.txt (line 1)) (4.0.10)\n",
      "Requirement already satisfied: zipp>=0.5 in /workspaces/DataScience-Portfolio/.conda/lib/python3.11/site-packages (from importlib-metadata<7,>=1.4->streamlit->-r requirements.txt (line 1)) (3.15.0)\n",
      "Requirement already satisfied: coloredlogs in /workspaces/DataScience-Portfolio/.conda/lib/python3.11/site-packages (from onnxruntime>=1.14.1->chromadb->-r requirements.txt (line 7)) (15.0.1)\n",
      "Requirement already satisfied: flatbuffers in /workspaces/DataScience-Portfolio/.conda/lib/python3.11/site-packages (from onnxruntime>=1.14.1->chromadb->-r requirements.txt (line 7)) (23.5.26)\n",
      "Requirement already satisfied: sympy in /workspaces/DataScience-Portfolio/.conda/lib/python3.11/site-packages (from onnxruntime>=1.14.1->chromadb->-r requirements.txt (line 7)) (1.12)\n",
      "Requirement already satisfied: tzdata>=2022.1 in /workspaces/DataScience-Portfolio/.conda/lib/python3.11/site-packages (from pandas<3,>=0.25->streamlit->-r requirements.txt (line 1)) (2023.3)\n",
      "Requirement already satisfied: six>=1.5 in /workspaces/DataScience-Portfolio/.conda/lib/python3.11/site-packages (from posthog>=2.4.0->chromadb->-r requirements.txt (line 7)) (1.16.0)\n",
      "Requirement already satisfied: monotonic>=1.5 in /workspaces/DataScience-Portfolio/.conda/lib/python3.11/site-packages (from posthog>=2.4.0->chromadb->-r requirements.txt (line 7)) (1.6)\n",
      "Requirement already satisfied: backoff>=1.10.0 in /workspaces/DataScience-Portfolio/.conda/lib/python3.11/site-packages (from posthog>=2.4.0->chromadb->-r requirements.txt (line 7)) (2.2.1)\n",
      "Requirement already satisfied: idna<4,>=2.5 in /workspaces/DataScience-Portfolio/.conda/lib/python3.11/site-packages (from requests<3,>=2.4->streamlit->-r requirements.txt (line 1)) (3.4)\n",
      "Requirement already satisfied: markdown-it-py>=2.2.0 in /workspaces/DataScience-Portfolio/.conda/lib/python3.11/site-packages (from rich<14,>=10.11.0->streamlit->-r requirements.txt (line 1)) (3.0.0)\n",
      "Requirement already satisfied: pygments<3.0.0,>=2.13.0 in /workspaces/DataScience-Portfolio/.conda/lib/python3.11/site-packages (from rich<14,>=10.11.0->streamlit->-r requirements.txt (line 1)) (2.15.1)\n",
      "Requirement already satisfied: greenlet!=0.4.17 in /workspaces/DataScience-Portfolio/.conda/lib/python3.11/site-packages (from SQLAlchemy<3,>=1.4->langchain->-r requirements.txt (line 2)) (2.0.2)\n",
      "Requirement already satisfied: pytz-deprecation-shim in /workspaces/DataScience-Portfolio/.conda/lib/python3.11/site-packages (from tzlocal<5,>=1.1->streamlit->-r requirements.txt (line 1)) (0.1.0.post0)\n",
      "Requirement already satisfied: h11>=0.8 in /workspaces/DataScience-Portfolio/.conda/lib/python3.11/site-packages (from uvicorn[standard]>=0.18.3->chromadb->-r requirements.txt (line 7)) (0.14.0)\n",
      "Requirement already satisfied: httptools>=0.5.0 in /workspaces/DataScience-Portfolio/.conda/lib/python3.11/site-packages (from uvicorn[standard]>=0.18.3->chromadb->-r requirements.txt (line 7)) (0.5.0)\n",
      "Requirement already satisfied: uvloop!=0.15.0,!=0.15.1,>=0.14.0 in /workspaces/DataScience-Portfolio/.conda/lib/python3.11/site-packages (from uvicorn[standard]>=0.18.3->chromadb->-r requirements.txt (line 7)) (0.17.0)\n",
      "Requirement already satisfied: watchfiles>=0.13 in /workspaces/DataScience-Portfolio/.conda/lib/python3.11/site-packages (from uvicorn[standard]>=0.18.3->chromadb->-r requirements.txt (line 7)) (0.19.0)\n",
      "Requirement already satisfied: websockets>=10.4 in /workspaces/DataScience-Portfolio/.conda/lib/python3.11/site-packages (from uvicorn[standard]>=0.18.3->chromadb->-r requirements.txt (line 7)) (11.0.3)\n",
      "Requirement already satisfied: decorator>=3.4.0 in /workspaces/DataScience-Portfolio/.conda/lib/python3.11/site-packages (from validators<1,>=0.2->streamlit->-r requirements.txt (line 1)) (5.1.1)\n",
      "Requirement already satisfied: pip in /workspaces/DataScience-Portfolio/.conda/lib/python3.11/site-packages (from fastcore->streamlit_jupyter->-r requirements.txt (line 8)) (23.1.2)\n",
      "Requirement already satisfied: notebook in /workspaces/DataScience-Portfolio/.conda/lib/python3.11/site-packages (from jupyter->streamlit_jupyter->-r requirements.txt (line 8)) (6.5.4)\n",
      "Requirement already satisfied: qtconsole in /workspaces/DataScience-Portfolio/.conda/lib/python3.11/site-packages (from jupyter->streamlit_jupyter->-r requirements.txt (line 8)) (5.4.3)\n",
      "Requirement already satisfied: jupyter-console in /workspaces/DataScience-Portfolio/.conda/lib/python3.11/site-packages (from jupyter->streamlit_jupyter->-r requirements.txt (line 8)) (6.6.3)\n",
      "Requirement already satisfied: nbconvert in /workspaces/DataScience-Portfolio/.conda/lib/python3.11/site-packages (from jupyter->streamlit_jupyter->-r requirements.txt (line 8)) (7.5.0)\n",
      "Requirement already satisfied: smmap<6,>=3.0.1 in /workspaces/DataScience-Portfolio/.conda/lib/python3.11/site-packages (from gitdb<5,>=4.0.1->gitpython!=3.1.19,<4,>=3->streamlit->-r requirements.txt (line 1)) (5.0.0)\n",
      "Requirement already satisfied: comm>=0.1.1 in /workspaces/DataScience-Portfolio/.conda/lib/python3.11/site-packages (from ipykernel>=4.5.1->ipywidgets==7.7.2->streamlit_jupyter->-r requirements.txt (line 8)) (0.1.3)\n",
      "Requirement already satisfied: debugpy>=1.6.5 in /workspaces/DataScience-Portfolio/.conda/lib/python3.11/site-packages (from ipykernel>=4.5.1->ipywidgets==7.7.2->streamlit_jupyter->-r requirements.txt (line 8)) (1.6.7)\n",
      "Requirement already satisfied: jupyter-client>=6.1.12 in /workspaces/DataScience-Portfolio/.conda/lib/python3.11/site-packages (from ipykernel>=4.5.1->ipywidgets==7.7.2->streamlit_jupyter->-r requirements.txt (line 8)) (8.2.0)\n",
      "Requirement already satisfied: jupyter-core!=5.0.*,>=4.12 in /workspaces/DataScience-Portfolio/.conda/lib/python3.11/site-packages (from ipykernel>=4.5.1->ipywidgets==7.7.2->streamlit_jupyter->-r requirements.txt (line 8)) (5.3.1)\n",
      "Requirement already satisfied: matplotlib-inline>=0.1 in /workspaces/DataScience-Portfolio/.conda/lib/python3.11/site-packages (from ipykernel>=4.5.1->ipywidgets==7.7.2->streamlit_jupyter->-r requirements.txt (line 8)) (0.1.6)\n",
      "Requirement already satisfied: nest-asyncio in /workspaces/DataScience-Portfolio/.conda/lib/python3.11/site-packages (from ipykernel>=4.5.1->ipywidgets==7.7.2->streamlit_jupyter->-r requirements.txt (line 8)) (1.5.6)\n",
      "Requirement already satisfied: psutil in /workspaces/DataScience-Portfolio/.conda/lib/python3.11/site-packages (from ipykernel>=4.5.1->ipywidgets==7.7.2->streamlit_jupyter->-r requirements.txt (line 8)) (5.9.5)\n",
      "Requirement already satisfied: pyzmq>=20 in /workspaces/DataScience-Portfolio/.conda/lib/python3.11/site-packages (from ipykernel>=4.5.1->ipywidgets==7.7.2->streamlit_jupyter->-r requirements.txt (line 8)) (25.1.0)\n",
      "Requirement already satisfied: backcall in /workspaces/DataScience-Portfolio/.conda/lib/python3.11/site-packages (from ipython>=4.0.0->ipywidgets==7.7.2->streamlit_jupyter->-r requirements.txt (line 8)) (0.2.0)\n",
      "Requirement already satisfied: jedi>=0.16 in /workspaces/DataScience-Portfolio/.conda/lib/python3.11/site-packages (from ipython>=4.0.0->ipywidgets==7.7.2->streamlit_jupyter->-r requirements.txt (line 8)) (0.18.2)\n",
      "Requirement already satisfied: pickleshare in /workspaces/DataScience-Portfolio/.conda/lib/python3.11/site-packages (from ipython>=4.0.0->ipywidgets==7.7.2->streamlit_jupyter->-r requirements.txt (line 8)) (0.7.5)\n",
      "Requirement already satisfied: prompt-toolkit!=3.0.37,<3.1.0,>=3.0.30 in /workspaces/DataScience-Portfolio/.conda/lib/python3.11/site-packages (from ipython>=4.0.0->ipywidgets==7.7.2->streamlit_jupyter->-r requirements.txt (line 8)) (3.0.38)\n",
      "Requirement already satisfied: stack-data in /workspaces/DataScience-Portfolio/.conda/lib/python3.11/site-packages (from ipython>=4.0.0->ipywidgets==7.7.2->streamlit_jupyter->-r requirements.txt (line 8)) (0.6.2)\n",
      "Requirement already satisfied: pexpect>4.3 in /workspaces/DataScience-Portfolio/.conda/lib/python3.11/site-packages (from ipython>=4.0.0->ipywidgets==7.7.2->streamlit_jupyter->-r requirements.txt (line 8)) (4.8.0)\n",
      "Requirement already satisfied: MarkupSafe>=2.0 in /workspaces/DataScience-Portfolio/.conda/lib/python3.11/site-packages (from jinja2->altair<6,>=4.0->streamlit->-r requirements.txt (line 1)) (2.1.3)\n",
      "Requirement already satisfied: pyrsistent!=0.17.0,!=0.17.1,!=0.17.2,>=0.14.0 in /workspaces/DataScience-Portfolio/.conda/lib/python3.11/site-packages (from jsonschema>=3.0->altair<6,>=4.0->streamlit->-r requirements.txt (line 1)) (0.19.3)\n",
      "Requirement already satisfied: mdurl~=0.1 in /workspaces/DataScience-Portfolio/.conda/lib/python3.11/site-packages (from markdown-it-py>=2.2.0->rich<14,>=10.11.0->streamlit->-r requirements.txt (line 1)) (0.1.2)\n",
      "Requirement already satisfied: anyio<5,>=3.4.0 in /workspaces/DataScience-Portfolio/.conda/lib/python3.11/site-packages (from starlette<0.28.0,>=0.27.0->fastapi>=0.85.1->chromadb->-r requirements.txt (line 7)) (3.7.0)\n",
      "Requirement already satisfied: mypy-extensions>=0.3.0 in /workspaces/DataScience-Portfolio/.conda/lib/python3.11/site-packages (from typing-inspect>=0.4.0->dataclasses-json<0.6.0,>=0.5.7->langchain->-r requirements.txt (line 2)) (1.0.0)\n",
      "Requirement already satisfied: argon2-cffi in /workspaces/DataScience-Portfolio/.conda/lib/python3.11/site-packages (from notebook->jupyter->streamlit_jupyter->-r requirements.txt (line 8)) (21.3.0)\n",
      "Requirement already satisfied: nbformat in /workspaces/DataScience-Portfolio/.conda/lib/python3.11/site-packages (from notebook->jupyter->streamlit_jupyter->-r requirements.txt (line 8)) (5.9.0)\n",
      "Requirement already satisfied: Send2Trash>=1.8.0 in /workspaces/DataScience-Portfolio/.conda/lib/python3.11/site-packages (from notebook->jupyter->streamlit_jupyter->-r requirements.txt (line 8)) (1.8.2)\n",
      "Requirement already satisfied: terminado>=0.8.3 in /workspaces/DataScience-Portfolio/.conda/lib/python3.11/site-packages (from notebook->jupyter->streamlit_jupyter->-r requirements.txt (line 8)) (0.17.1)\n",
      "Requirement already satisfied: prometheus-client in /workspaces/DataScience-Portfolio/.conda/lib/python3.11/site-packages (from notebook->jupyter->streamlit_jupyter->-r requirements.txt (line 8)) (0.17.0)\n",
      "Requirement already satisfied: nbclassic>=0.4.7 in /workspaces/DataScience-Portfolio/.conda/lib/python3.11/site-packages (from notebook->jupyter->streamlit_jupyter->-r requirements.txt (line 8)) (1.0.0)\n",
      "Requirement already satisfied: beautifulsoup4 in /workspaces/DataScience-Portfolio/.conda/lib/python3.11/site-packages (from nbconvert->jupyter->streamlit_jupyter->-r requirements.txt (line 8)) (4.12.2)\n",
      "Requirement already satisfied: bleach!=5.0.0 in /workspaces/DataScience-Portfolio/.conda/lib/python3.11/site-packages (from nbconvert->jupyter->streamlit_jupyter->-r requirements.txt (line 8)) (6.0.0)\n",
      "Requirement already satisfied: defusedxml in /workspaces/DataScience-Portfolio/.conda/lib/python3.11/site-packages (from nbconvert->jupyter->streamlit_jupyter->-r requirements.txt (line 8)) (0.7.1)\n",
      "Requirement already satisfied: jupyterlab-pygments in /workspaces/DataScience-Portfolio/.conda/lib/python3.11/site-packages (from nbconvert->jupyter->streamlit_jupyter->-r requirements.txt (line 8)) (0.2.2)\n",
      "Requirement already satisfied: mistune<3,>=2.0.3 in /workspaces/DataScience-Portfolio/.conda/lib/python3.11/site-packages (from nbconvert->jupyter->streamlit_jupyter->-r requirements.txt (line 8)) (2.0.5)\n",
      "Requirement already satisfied: nbclient>=0.5.0 in /workspaces/DataScience-Portfolio/.conda/lib/python3.11/site-packages (from nbconvert->jupyter->streamlit_jupyter->-r requirements.txt (line 8)) (0.8.0)\n",
      "Requirement already satisfied: pandocfilters>=1.4.1 in /workspaces/DataScience-Portfolio/.conda/lib/python3.11/site-packages (from nbconvert->jupyter->streamlit_jupyter->-r requirements.txt (line 8)) (1.5.0)\n",
      "Requirement already satisfied: tinycss2 in /workspaces/DataScience-Portfolio/.conda/lib/python3.11/site-packages (from nbconvert->jupyter->streamlit_jupyter->-r requirements.txt (line 8)) (1.2.1)\n",
      "Requirement already satisfied: humanfriendly>=9.1 in /workspaces/DataScience-Portfolio/.conda/lib/python3.11/site-packages (from coloredlogs->onnxruntime>=1.14.1->chromadb->-r requirements.txt (line 7)) (10.0)\n",
      "Requirement already satisfied: qtpy>=2.0.1 in /workspaces/DataScience-Portfolio/.conda/lib/python3.11/site-packages (from qtconsole->jupyter->streamlit_jupyter->-r requirements.txt (line 8)) (2.3.1)\n",
      "Requirement already satisfied: mpmath>=0.19 in /workspaces/DataScience-Portfolio/.conda/lib/python3.11/site-packages (from sympy->onnxruntime>=1.14.1->chromadb->-r requirements.txt (line 7)) (1.3.0)\n",
      "Requirement already satisfied: sniffio>=1.1 in /workspaces/DataScience-Portfolio/.conda/lib/python3.11/site-packages (from anyio<5,>=3.4.0->starlette<0.28.0,>=0.27.0->fastapi>=0.85.1->chromadb->-r requirements.txt (line 7)) (1.3.0)\n",
      "Requirement already satisfied: webencodings in /workspaces/DataScience-Portfolio/.conda/lib/python3.11/site-packages (from bleach!=5.0.0->nbconvert->jupyter->streamlit_jupyter->-r requirements.txt (line 8)) (0.5.1)\n",
      "Requirement already satisfied: parso<0.9.0,>=0.8.0 in /workspaces/DataScience-Portfolio/.conda/lib/python3.11/site-packages (from jedi>=0.16->ipython>=4.0.0->ipywidgets==7.7.2->streamlit_jupyter->-r requirements.txt (line 8)) (0.8.3)\n",
      "Requirement already satisfied: platformdirs>=2.5 in /workspaces/DataScience-Portfolio/.conda/lib/python3.11/site-packages (from jupyter-core!=5.0.*,>=4.12->ipykernel>=4.5.1->ipywidgets==7.7.2->streamlit_jupyter->-r requirements.txt (line 8)) (3.5.3)\n",
      "Requirement already satisfied: jupyter-server>=1.8 in /workspaces/DataScience-Portfolio/.conda/lib/python3.11/site-packages (from nbclassic>=0.4.7->notebook->jupyter->streamlit_jupyter->-r requirements.txt (line 8)) (2.6.0)\n",
      "Requirement already satisfied: notebook-shim>=0.2.3 in /workspaces/DataScience-Portfolio/.conda/lib/python3.11/site-packages (from nbclassic>=0.4.7->notebook->jupyter->streamlit_jupyter->-r requirements.txt (line 8)) (0.2.3)\n",
      "Requirement already satisfied: fastjsonschema in /workspaces/DataScience-Portfolio/.conda/lib/python3.11/site-packages (from nbformat->notebook->jupyter->streamlit_jupyter->-r requirements.txt (line 8)) (2.17.1)\n",
      "Requirement already satisfied: ptyprocess>=0.5 in /workspaces/DataScience-Portfolio/.conda/lib/python3.11/site-packages (from pexpect>4.3->ipython>=4.0.0->ipywidgets==7.7.2->streamlit_jupyter->-r requirements.txt (line 8)) (0.7.0)\n",
      "Requirement already satisfied: wcwidth in /workspaces/DataScience-Portfolio/.conda/lib/python3.11/site-packages (from prompt-toolkit!=3.0.37,<3.1.0,>=3.0.30->ipython>=4.0.0->ipywidgets==7.7.2->streamlit_jupyter->-r requirements.txt (line 8)) (0.2.6)\n",
      "Requirement already satisfied: argon2-cffi-bindings in /workspaces/DataScience-Portfolio/.conda/lib/python3.11/site-packages (from argon2-cffi->notebook->jupyter->streamlit_jupyter->-r requirements.txt (line 8)) (21.2.0)\n",
      "Requirement already satisfied: soupsieve>1.2 in /workspaces/DataScience-Portfolio/.conda/lib/python3.11/site-packages (from beautifulsoup4->nbconvert->jupyter->streamlit_jupyter->-r requirements.txt (line 8)) (2.4.1)\n",
      "Requirement already satisfied: executing>=1.2.0 in /workspaces/DataScience-Portfolio/.conda/lib/python3.11/site-packages (from stack-data->ipython>=4.0.0->ipywidgets==7.7.2->streamlit_jupyter->-r requirements.txt (line 8)) (1.2.0)\n",
      "Requirement already satisfied: asttokens>=2.1.0 in /workspaces/DataScience-Portfolio/.conda/lib/python3.11/site-packages (from stack-data->ipython>=4.0.0->ipywidgets==7.7.2->streamlit_jupyter->-r requirements.txt (line 8)) (2.2.1)\n",
      "Requirement already satisfied: pure-eval in /workspaces/DataScience-Portfolio/.conda/lib/python3.11/site-packages (from stack-data->ipython>=4.0.0->ipywidgets==7.7.2->streamlit_jupyter->-r requirements.txt (line 8)) (0.2.2)\n",
      "Requirement already satisfied: jupyter-events>=0.6.0 in /workspaces/DataScience-Portfolio/.conda/lib/python3.11/site-packages (from jupyter-server>=1.8->nbclassic>=0.4.7->notebook->jupyter->streamlit_jupyter->-r requirements.txt (line 8)) (0.6.3)\n",
      "Requirement already satisfied: jupyter-server-terminals in /workspaces/DataScience-Portfolio/.conda/lib/python3.11/site-packages (from jupyter-server>=1.8->nbclassic>=0.4.7->notebook->jupyter->streamlit_jupyter->-r requirements.txt (line 8)) (0.4.4)\n",
      "Requirement already satisfied: websocket-client in /workspaces/DataScience-Portfolio/.conda/lib/python3.11/site-packages (from jupyter-server>=1.8->nbclassic>=0.4.7->notebook->jupyter->streamlit_jupyter->-r requirements.txt (line 8)) (1.5.3)\n",
      "Requirement already satisfied: cffi>=1.0.1 in /workspaces/DataScience-Portfolio/.conda/lib/python3.11/site-packages (from argon2-cffi-bindings->argon2-cffi->notebook->jupyter->streamlit_jupyter->-r requirements.txt (line 8)) (1.15.1)\n",
      "Requirement already satisfied: pycparser in /workspaces/DataScience-Portfolio/.conda/lib/python3.11/site-packages (from cffi>=1.0.1->argon2-cffi-bindings->argon2-cffi->notebook->jupyter->streamlit_jupyter->-r requirements.txt (line 8)) (2.21)\n",
      "Requirement already satisfied: python-json-logger>=2.0.4 in /workspaces/DataScience-Portfolio/.conda/lib/python3.11/site-packages (from jupyter-events>=0.6.0->jupyter-server>=1.8->nbclassic>=0.4.7->notebook->jupyter->streamlit_jupyter->-r requirements.txt (line 8)) (2.0.7)\n",
      "Requirement already satisfied: rfc3339-validator in /workspaces/DataScience-Portfolio/.conda/lib/python3.11/site-packages (from jupyter-events>=0.6.0->jupyter-server>=1.8->nbclassic>=0.4.7->notebook->jupyter->streamlit_jupyter->-r requirements.txt (line 8)) (0.1.4)\n",
      "Requirement already satisfied: rfc3986-validator>=0.1.1 in /workspaces/DataScience-Portfolio/.conda/lib/python3.11/site-packages (from jupyter-events>=0.6.0->jupyter-server>=1.8->nbclassic>=0.4.7->notebook->jupyter->streamlit_jupyter->-r requirements.txt (line 8)) (0.1.1)\n",
      "Requirement already satisfied: fqdn in /workspaces/DataScience-Portfolio/.conda/lib/python3.11/site-packages (from jsonschema>=3.0->altair<6,>=4.0->streamlit->-r requirements.txt (line 1)) (1.5.1)\n",
      "Requirement already satisfied: isoduration in /workspaces/DataScience-Portfolio/.conda/lib/python3.11/site-packages (from jsonschema>=3.0->altair<6,>=4.0->streamlit->-r requirements.txt (line 1)) (20.11.0)\n",
      "Requirement already satisfied: jsonpointer>1.13 in /workspaces/DataScience-Portfolio/.conda/lib/python3.11/site-packages (from jsonschema>=3.0->altair<6,>=4.0->streamlit->-r requirements.txt (line 1)) (2.3)\n",
      "Requirement already satisfied: uri-template in /workspaces/DataScience-Portfolio/.conda/lib/python3.11/site-packages (from jsonschema>=3.0->altair<6,>=4.0->streamlit->-r requirements.txt (line 1)) (1.2.0)\n",
      "Requirement already satisfied: webcolors>=1.11 in /workspaces/DataScience-Portfolio/.conda/lib/python3.11/site-packages (from jsonschema>=3.0->altair<6,>=4.0->streamlit->-r requirements.txt (line 1)) (1.13)\n",
      "Requirement already satisfied: arrow>=0.15.0 in /workspaces/DataScience-Portfolio/.conda/lib/python3.11/site-packages (from isoduration->jsonschema>=3.0->altair<6,>=4.0->streamlit->-r requirements.txt (line 1)) (1.2.3)\n"
     ]
    }
   ],
   "source": [
    "#this will install all requirements\n",
    "!pip install -r requirements.txt"
   ]
  },
  {
   "cell_type": "markdown",
   "metadata": {},
   "source": []
  },
  {
   "cell_type": "code",
   "execution_count": 2,
   "metadata": {},
   "outputs": [],
   "source": [
    "# Create a .env file and add the following lines of code\n",
    "\n",
    "OPENAI_DEPLOYMENT_ENDPOINT = \"https://yourresource.openai.azure.com/\"\n",
    "OPENAI_API_KEY = \"yourapikey\"\n",
    "OPENAI_DEPLOYMENT_NAME = \"yourdeploymentname\"\n",
    "OPENAI_API_VERSION = \"2023-03-15-preview\"\n",
    "OPENAI_MODEL_NAME=\"gpt-35-turbo\"\n",
    "OPENAI_API_TYPE = \"azure\"\n",
    "OPENAI_EMBEDDING_DEPLOYMENT_NAME = \"text-embedding-ada-002\"\n",
    "OPENAI_EMBEDDING_MODEL_NAME = \"text-embedding-ada-002\"\n",
    "\n",
    "PINECONE_API_KEY = \"yourpineconeapikey\"\n",
    "PINECONE_ENV =\"us-west4-gcp-free\"\n",
    "\n"
   ]
  },
  {
   "attachments": {},
   "cell_type": "markdown",
   "metadata": {},
   "source": [
    "### Imports"
   ]
  },
  {
   "cell_type": "code",
   "execution_count": 3,
   "metadata": {},
   "outputs": [
    {
     "name": "stderr",
     "output_type": "stream",
     "text": [
      "/workspaces/DataScience-Portfolio/.conda/lib/python3.11/site-packages/pinecone/index.py:4: TqdmExperimentalWarning: Using `tqdm.autonotebook.tqdm` in notebook mode. Use `tqdm.tqdm` instead to force console mode (e.g. in jupyter console)\n",
      "  from tqdm.autonotebook import tqdm\n"
     ]
    }
   ],
   "source": [
    "import streamlit as st\n",
    "import openai\n",
    "import os\n",
    "import pinecone\n",
    "import streamlit as st\n",
    "\n",
    "from dotenv import load_dotenv\n",
    "from langchain.chains.question_answering import load_qa_chain\n",
    "from dotenv import load_dotenv\n",
    "from streamlit_chat import message\n",
    "from langchain.document_loaders import TextLoader\n",
    "from langchain.text_splitter import CharacterTextSplitter\n",
    "from langchain.vectorstores import Pinecone\n",
    "from langchain.embeddings.openai import OpenAIEmbeddings\n",
    "from langchain.docstore.document import Document\n",
    "from langchain.document_loaders import TextLoader\n",
    "from streamlit_jupyter import StreamlitPatcher, tqdm"
   ]
  },
  {
   "attachments": {},
   "cell_type": "markdown",
   "metadata": {},
   "source": [
    "## Load environment variables.\n",
    "\n",
    "This will load your secrets and configuration settings from the .env file."
   ]
  },
  {
   "cell_type": "code",
   "execution_count": 4,
   "metadata": {},
   "outputs": [],
   "source": [
    "#load environment variables\n",
    "load_dotenv()\n",
    "\n",
    "OPENAI_API_KEY = os.getenv(\"OPENAI_API_KEY\")\n",
    "OPENAI_DEPLOYMENT_ENDPOINT = os.getenv(\"OPENAI_DEPLOYMENT_ENDPOINT\")\n",
    "OPENAI_DEPLOYMENT_NAME = os.getenv(\"OPENAI_DEPLOYMENT_NAME\")\n",
    "OPENAI_MODEL_NAME = os.getenv(\"OPENAI_MODEL_NAME\")\n",
    "OPENAI_EMBEDDING_DEPLOYMENT_NAME = os.getenv(\"OPENAI_EMBEDDING_DEPLOYMENT_NAME\")\n",
    "OPENAI_EMBEDDING_MODEL_NAME = os.getenv(\"OPENAI_EMBEDDING_MODEL_NAME\")\n",
    "OPENAI_API_VERSION = os.getenv(\"OPENAI_API_VERSION\")\n",
    "OPENAI_API_TYPE = os.getenv(\"OPENAI_API_TYPE\")\n",
    "PINECONE_API_KEY =  os.getenv(\"PINECONE_API_KEY\")\n",
    "PINECONE_ENV = os.getenv(\"PINECONE_ENV\")"
   ]
  },
  {
   "cell_type": "code",
   "execution_count": 5,
   "metadata": {},
   "outputs": [],
   "source": [
    "#init Azure OpenAI\n",
    "openai.api_type = OPENAI_API_TYPE\n",
    "openai.api_version = OPENAI_API_VERSION\n",
    "openai.api_base = OPENAI_DEPLOYMENT_ENDPOINT\n",
    "openai.api_key = OPENAI_API_KEY"
   ]
  },
  {
   "attachments": {},
   "cell_type": "markdown",
   "metadata": {},
   "source": [
    "### Lets code\n",
    "\n",
    "Here we first to define our filename, for this case we will simply use a text file.\n",
    "Then we have to load the file with the TextLoader class, and then with the ```loader.load()``` method we put in a variable ```documents```\n",
    "\n",
    "In order to put the data into our vector database, we have to split it with the ```CharacterTextSplitter```, here we can configure how big the chunk size must be and the chunk overlap, when testing this functionality with OpenAI, I got errors when settings a chunk size higher than 1.\n",
    "\n",
    "Then we need to instantiate a ```OpenAIEmbeddings()``` from OpenAI sdk, we use this embedding to convert our text file into vectors."
   ]
  },
  {
   "cell_type": "code",
   "execution_count": 6,
   "metadata": {},
   "outputs": [
    {
     "name": "stderr",
     "output_type": "stream",
     "text": [
      "Created a chunk of size 205, which is longer than the specified 1\n",
      "Created a chunk of size 212, which is longer than the specified 1\n",
      "Created a chunk of size 218, which is longer than the specified 1\n",
      "Created a chunk of size 230, which is longer than the specified 1\n",
      "Created a chunk of size 216, which is longer than the specified 1\n",
      "Created a chunk of size 214, which is longer than the specified 1\n",
      "Created a chunk of size 218, which is longer than the specified 1\n",
      "Created a chunk of size 222, which is longer than the specified 1\n",
      "Created a chunk of size 230, which is longer than the specified 1\n",
      "Created a chunk of size 222, which is longer than the specified 1\n"
     ]
    }
   ],
   "source": [
    "# File available in the profile\n",
    "filename = \"profiles.txt\"\n",
    "loader = TextLoader(\"profiles.txt\", encoding='utf8')\n",
    "documents = loader.load()\n",
    "text_splitter = CharacterTextSplitter(chunk_size=1, chunk_overlap=0)\n",
    "docs = text_splitter.split_documents(documents)\n",
    "embeddings = OpenAIEmbeddings(deployment=\"text-embedding-ada-002\", model=\"text-embedding-ada-002\", chunk_size=1)"
   ]
  },
  {
   "attachments": {},
   "cell_type": "markdown",
   "metadata": {},
   "source": [
    "Then we just initialize the PineCone client"
   ]
  },
  {
   "cell_type": "code",
   "execution_count": 7,
   "metadata": {},
   "outputs": [],
   "source": [
    "import pinecone\n",
    "pinecone.init(\n",
    "    api_key=PINECONE_API_KEY,  # find at app.pinecone.io\n",
    "    environment=PINECONE_ENV  # next to api key in console\n",
    ")"
   ]
  },
  {
   "attachments": {},
   "cell_type": "markdown",
   "metadata": {},
   "source": [
    "And finally we convert our text to vectors and store it in PineCone"
   ]
  },
  {
   "cell_type": "code",
   "execution_count": 8,
   "metadata": {},
   "outputs": [],
   "source": [
    "index_name = \"default\""
   ]
  },
  {
   "cell_type": "code",
   "execution_count": 9,
   "metadata": {},
   "outputs": [],
   "source": [
    "docsearch = Pinecone.from_documents(docs, embeddings, index_name=index_name)\n",
    "       "
   ]
  },
  {
   "attachments": {},
   "cell_type": "markdown",
   "metadata": {},
   "source": [
    "### Similarity search\n",
    "\n",
    "Similarity search, also known as similarity retrieval or similarity querying, is a fundamental problem in information retrieval and database systems. It refers to the task of finding objects or data points that are similar to a given query object based on a specified similarity measure.\n",
    "\n",
    "In similarity search, the goal is to identify items in a dataset that are most similar to a particular query item. The similarity can be measured using various distance metrics, such as Euclidean distance, cosine similarity, Jaccard similarity, or edit distance, depending on the nature of the data.\n",
    "\n",
    "Basically it will return results based on distance which is measure from the embedded vectors and the embedded query to return the appropiate results."
   ]
  },
  {
   "cell_type": "code",
   "execution_count": 10,
   "metadata": {},
   "outputs": [
    {
     "name": "stdout",
     "output_type": "stream",
     "text": [
      "[Document(page_content='Name: Michael Johnson\\nAge: 72\\nGender: Male\\nAddress: 654 Oak St\\nPhone: 555-6789\\nEmail: michaeljohnson@example.com\\nInterests: Gardening, Golf, Traveling\\nLikes: Tea\\nDislikes: Snakes, Pollen\\nAllergies: None\\nLocation: Miami', metadata={'source': 'file.txt'}), Document(page_content='Name: Michael Johnson\\nAge: 72\\nGender: Male\\nAddress: 654 Oak St\\nPhone: 555-6789\\nEmail: michaeljohnson@example.com\\nInterests: Gardening, Golf, Traveling\\nLikes: Tea\\nDislikes: Snakes, Pollen\\nAllergies: None\\nLocation: Miami', metadata={'source': 'profiles.txt'}), Document(page_content='Name: Michael Johnson\\nAge: 72\\nGender: Male\\nAddress: 654 Oak St\\nPhone: 555-6789\\nEmail: michaeljohnson@example.com\\nInterests: Gardening, Golf, Traveling\\nLikes: Tea\\nDislikes: Snakes, Pollen\\nAllergies: None\\nLocation: Miami', metadata={'source': 'profiles.txt'}), Document(page_content='Name: David Smith\\nAge: 77\\nGender: Male\\nAddress: 456 Oak Ln\\nPhone: 555-1234\\nEmail: davidsmith@example.com\\nInterests: Music, Gardening', metadata={'source': 'profiles.txt'})]\n"
     ]
    }
   ],
   "source": [
    "#\n",
    "query = \"How many people likes gardening?\"\n",
    "docs = docsearch.similarity_search(query)\n",
    "print(docs)"
   ]
  },
  {
   "attachments": {},
   "cell_type": "markdown",
   "metadata": {},
   "source": [
    "As you can see it returns one document which matches our question, however we want to go a bit deeper and be able to have responses in plain english, not just some json response which is hard to read, right?"
   ]
  },
  {
   "attachments": {},
   "cell_type": "markdown",
   "metadata": {},
   "source": [
    "For this we use langchain, we instantiate an AzureChatOpenAI, which allows to reuse a trained model, for example gpt3.5 turbo. And we set other relevant configuration settings."
   ]
  },
  {
   "cell_type": "code",
   "execution_count": 11,
   "metadata": {},
   "outputs": [],
   "source": [
    "from langchain.chat_models import AzureChatOpenAI\n",
    "llm = AzureChatOpenAI(\n",
    "    openai_api_base=OPENAI_DEPLOYMENT_ENDPOINT,\n",
    "    openai_api_version=OPENAI_API_VERSION ,\n",
    "    deployment_name=OPENAI_DEPLOYMENT_NAME,\n",
    "    openai_api_key=OPENAI_API_KEY,\n",
    "    openai_api_type = OPENAI_API_TYPE ,\n",
    "    model_name=OPENAI_MODEL_NAME,\n",
    "    temperature=0)\n",
    "chain = load_qa_chain(llm, chain_type=\"stuff\")"
   ]
  },
  {
   "attachments": {},
   "cell_type": "markdown",
   "metadata": {},
   "source": [
    "And then we can just ask questions to our documents,"
   ]
  },
  {
   "cell_type": "code",
   "execution_count": 12,
   "metadata": {},
   "outputs": [
    {
     "name": "stdout",
     "output_type": "stream",
     "text": [
      "I'm sorry, I cannot answer that question as there is no information provided about the number of people who like gardening. The context only provides information about Michael Johnson and David Smith and their interests.\n"
     ]
    }
   ],
   "source": [
    "response = chain.run(input_documents=docs, question=query)\n",
    "print(response)"
   ]
  },
  {
   "cell_type": "code",
   "execution_count": 13,
   "metadata": {},
   "outputs": [
    {
     "name": "stdout",
     "output_type": "stream",
     "text": [
      "Michael is 72 years old.\n"
     ]
    }
   ],
   "source": [
    "response = chain.run(input_documents=docs, question=\"How old is Michael?\")\n",
    "print(response)"
   ]
  },
  {
   "attachments": {},
   "cell_type": "markdown",
   "metadata": {},
   "source": [
    "Pretty interesting and easy to do, in future Portfolio projects we will cover more advanced concepts like Chat Memory, Chains, Retrievers, Agents, etc.\n",
    "\n",
    "\n"
   ]
  }
 ],
 "metadata": {
  "kernelspec": {
   "display_name": "Python 3",
   "language": "python",
   "name": "python3"
  },
  "language_info": {
   "codemirror_mode": {
    "name": "ipython",
    "version": 3
   },
   "file_extension": ".py",
   "mimetype": "text/x-python",
   "name": "python",
   "nbconvert_exporter": "python",
   "pygments_lexer": "ipython3",
   "version": "3.11.3"
  },
  "orig_nbformat": 4
 },
 "nbformat": 4,
 "nbformat_minor": 2
}
